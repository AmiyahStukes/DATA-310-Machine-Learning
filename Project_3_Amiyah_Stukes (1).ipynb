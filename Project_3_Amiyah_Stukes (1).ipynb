{
  "cells": [
    {
      "cell_type": "markdown",
      "metadata": {
        "id": "Uw7zC71YqT95"
      },
      "source": [
        "# Project 3"
      ]
    },
    {
      "cell_type": "markdown",
      "metadata": {
        "id": "eKV_Di-hqacu"
      },
      "source": [
        "Import the provided dataset “AirI.csv.” The first column represents the response variable, and the rest of the columns are the predictors (input features). \n",
        "\n",
        "\n",
        "For this project, you will apply the three grid search algorithms we studied, such as the Genetic Algorithm, Particle Swarm Optimization, and Simulated Annealing, to determine the best choice of hyperparameters for the Elastic Net and Support Vector Regressor method. Specifically, in the case of the Elastic Net, we look for the best alpha and l1_ratio, and in the case of SVR, we search for the best combination of epsilon and C values. The metric for decision is a 10-fold cross-validated MSE (external validation)."
      ]
    },
    {
      "cell_type": "markdown",
      "metadata": {
        "id": "we0ShuEQqsw9"
      },
      "source": [
        "## Importing Libraries"
      ]
    },
    {
      "cell_type": "code",
      "execution_count": null,
      "metadata": {
        "id": "fbMSDL_wqf5s"
      },
      "outputs": [],
      "source": [
        "#@title\n",
        "%matplotlib inline\n",
        "%config InlineBackend.figure_format = 'retina'\n",
        "import matplotlib as mpl\n",
        "mpl.rcParams['figure.dpi'] = 150\n",
        "import matplotlib.pyplot as plt\n",
        "\n",
        "import pandas as pd\n",
        "import numpy as np\n",
        "\n",
        "from sklearn.preprocessing import StandardScaler\n",
        "from sklearn.linear_model import ElasticNet\n",
        "from sklearn.svm import SVR\n",
        "from sklearn.model_selection import KFold\n",
        "from sklearn.metrics import mean_squared_error as MSE\n",
        "from scipy.optimize import dual_annealing\n",
        "import seaborn as sns\n",
        "\n"
      ]
    },
    {
      "cell_type": "code",
      "execution_count": null,
      "metadata": {
        "colab": {
          "base_uri": "https://localhost:8080/"
        },
        "id": "oY9al90aW5Vk",
        "outputId": "d662aa1d-a570-4536-bd31-d870e62127eb"
      },
      "outputs": [
        {
          "output_type": "stream",
          "name": "stdout",
          "text": [
            "Looking in indexes: https://pypi.org/simple, https://us-python.pkg.dev/colab-wheels/public/simple/\n",
            "Collecting pyswarms\n",
            "  Downloading pyswarms-1.3.0-py2.py3-none-any.whl (104 kB)\n",
            "\u001b[K     |████████████████████████████████| 104 kB 5.1 MB/s \n",
            "\u001b[?25hRequirement already satisfied: attrs in /usr/local/lib/python3.7/dist-packages (from pyswarms) (21.4.0)\n",
            "Requirement already satisfied: tqdm in /usr/local/lib/python3.7/dist-packages (from pyswarms) (4.64.0)\n",
            "Requirement already satisfied: scipy in /usr/local/lib/python3.7/dist-packages (from pyswarms) (1.7.3)\n",
            "Requirement already satisfied: pyyaml in /usr/local/lib/python3.7/dist-packages (from pyswarms) (3.13)\n",
            "Requirement already satisfied: matplotlib>=1.3.1 in /usr/local/lib/python3.7/dist-packages (from pyswarms) (3.2.2)\n",
            "Requirement already satisfied: numpy in /usr/local/lib/python3.7/dist-packages (from pyswarms) (1.21.6)\n",
            "Requirement already satisfied: future in /usr/local/lib/python3.7/dist-packages (from pyswarms) (0.16.0)\n",
            "Requirement already satisfied: kiwisolver>=1.0.1 in /usr/local/lib/python3.7/dist-packages (from matplotlib>=1.3.1->pyswarms) (1.4.4)\n",
            "Requirement already satisfied: cycler>=0.10 in /usr/local/lib/python3.7/dist-packages (from matplotlib>=1.3.1->pyswarms) (0.11.0)\n",
            "Requirement already satisfied: pyparsing!=2.0.4,!=2.1.2,!=2.1.6,>=2.0.1 in /usr/local/lib/python3.7/dist-packages (from matplotlib>=1.3.1->pyswarms) (3.0.9)\n",
            "Requirement already satisfied: python-dateutil>=2.1 in /usr/local/lib/python3.7/dist-packages (from matplotlib>=1.3.1->pyswarms) (2.8.2)\n",
            "Requirement already satisfied: typing-extensions in /usr/local/lib/python3.7/dist-packages (from kiwisolver>=1.0.1->matplotlib>=1.3.1->pyswarms) (4.1.1)\n",
            "Requirement already satisfied: six>=1.5 in /usr/local/lib/python3.7/dist-packages (from python-dateutil>=2.1->matplotlib>=1.3.1->pyswarms) (1.15.0)\n",
            "Installing collected packages: pyswarms\n",
            "Successfully installed pyswarms-1.3.0\n"
          ]
        }
      ],
      "source": [
        "!pip install pyswarms #installing pyswarms"
      ]
    },
    {
      "cell_type": "code",
      "execution_count": null,
      "metadata": {
        "id": "HMA6k1n8Wy5Q"
      },
      "outputs": [],
      "source": [
        "import pyswarms as ps #importing pyswarms"
      ]
    },
    {
      "cell_type": "code",
      "execution_count": null,
      "metadata": {
        "colab": {
          "base_uri": "https://localhost:8080/"
        },
        "id": "pr5upDC3XI0b",
        "outputId": "6169d22d-1c39-4a1d-c374-534f8b80733d"
      },
      "outputs": [
        {
          "output_type": "stream",
          "name": "stdout",
          "text": [
            "Looking in indexes: https://pypi.org/simple, https://us-python.pkg.dev/colab-wheels/public/simple/\n",
            "Collecting geneticalgorithm\n",
            "  Downloading geneticalgorithm-1.0.2-py3-none-any.whl (16 kB)\n",
            "Collecting func-timeout\n",
            "  Downloading func_timeout-4.3.5.tar.gz (44 kB)\n",
            "\u001b[K     |████████████████████████████████| 44 kB 1.8 MB/s \n",
            "\u001b[?25hRequirement already satisfied: numpy in /usr/local/lib/python3.7/dist-packages (from geneticalgorithm) (1.21.6)\n",
            "Building wheels for collected packages: func-timeout\n",
            "  Building wheel for func-timeout (setup.py) ... \u001b[?25l\u001b[?25hdone\n",
            "  Created wheel for func-timeout: filename=func_timeout-4.3.5-py3-none-any.whl size=15098 sha256=581dd1900e827a34a7f696f98351682d138c96adb0c02678b796ab5ca5e9eaa2\n",
            "  Stored in directory: /root/.cache/pip/wheels/68/b5/a5/67c4364c354e141f5a1bd3ec568126f77877ab7554cf5af8cb\n",
            "Successfully built func-timeout\n",
            "Installing collected packages: func-timeout, geneticalgorithm\n",
            "Successfully installed func-timeout-4.3.5 geneticalgorithm-1.0.2\n"
          ]
        }
      ],
      "source": [
        "!pip install geneticalgorithm #installing genetic algorithm"
      ]
    },
    {
      "cell_type": "code",
      "execution_count": null,
      "metadata": {
        "id": "9NJyuffEXQeC"
      },
      "outputs": [],
      "source": [
        "from geneticalgorithm import geneticalgorithm as ga #importing genetic algorithm"
      ]
    },
    {
      "cell_type": "markdown",
      "metadata": {
        "id": "glBMnRfsre0-"
      },
      "source": [
        "## Importing the data"
      ]
    },
    {
      "cell_type": "code",
      "execution_count": null,
      "metadata": {
        "id": "luUAP7hHrdKb"
      },
      "outputs": [],
      "source": [
        "#importing the data \n",
        "data = pd.read_csv('drive/MyDrive/Data Sets DATA 310/AirI(1).csv', header=None)"
      ]
    },
    {
      "cell_type": "code",
      "execution_count": null,
      "metadata": {
        "colab": {
          "base_uri": "https://localhost:8080/",
          "height": 488
        },
        "id": "_arxfCIxsaGz",
        "outputId": "c893be0d-c27f-464e-8f0f-337deebc0c0b"
      },
      "outputs": [
        {
          "output_type": "execute_result",
          "data": {
            "text/plain": [
              "        0         1         2         3         4         5        6    \\\n",
              "0    3.4482  0.001314  0.157470  0.688300  0.152920  0.000000  0.00000   \n",
              "1    3.3019  0.188490  0.553190  0.258290  0.000031  0.000000  0.00000   \n",
              "2    2.2894  0.052169  0.438520  0.494030  0.015282  0.000000  0.00000   \n",
              "3    2.6207  0.000000  0.000000  0.004213  0.109340  0.493440  0.39300   \n",
              "4    2.8439  0.000000  0.000000  0.019504  0.260470  0.549860  0.17016   \n",
              "..      ...       ...       ...       ...       ...       ...      ...   \n",
              "106  2.4101  0.301000  0.021904  0.000415  0.000000  0.000000  0.00000   \n",
              "107  3.1072  0.000734  0.138890  0.688740  0.171630  0.000000  0.00000   \n",
              "108  2.4101  0.001095  0.151180  0.688720  0.159000  0.000000  0.00000   \n",
              "109  2.6207  0.117370  0.526200  0.354590  0.001831  0.000000  0.00000   \n",
              "110  2.7144  0.000000  0.020058  0.538580  0.436120  0.005236  0.00000   \n",
              "\n",
              "          7        8         9    ...      502       503      504       505  \\\n",
              "0    0.096603  0.52135  0.382050  ... -2.94590  0.219960 -0.69045  0.240440   \n",
              "1    0.039008  0.43211  0.527160  ... -0.22680 -0.428570  0.74992 -0.111920   \n",
              "2    0.000000  0.00000  0.394840  ...  1.15790  0.010118  0.73593  1.356000   \n",
              "3    0.000000  0.00000  0.578540  ... -0.69767  1.577800  0.54899 -0.780420   \n",
              "4    0.010568  0.30520  0.670460  ... -1.49170 -0.688640 -0.69924  0.360740   \n",
              "..        ...      ...       ...  ...      ...       ...      ...       ...   \n",
              "106  0.000000  0.00000  0.051206  ... -1.56660 -1.097100  2.77450  0.679850   \n",
              "107  0.171260  0.54746  0.280340  ... -0.32440 -1.341500 -1.51650  0.870840   \n",
              "108  0.000000  0.00000  0.194760  ... -0.49572 -0.832130  0.52386  0.189400   \n",
              "109  0.039008  0.43211  0.527160  ... -0.87353  0.063740  0.20128  0.090828   \n",
              "110  0.000000  0.00000  0.578540  ...  0.69068  0.480600  1.87800 -1.188400   \n",
              "\n",
              "          506      507       508      509      510       511  \n",
              "0   -0.258640  1.33870  0.114820 -0.43046  0.82309  1.543500  \n",
              "1    1.583000  0.88565 -0.053227  0.67796 -1.72010 -0.550510  \n",
              "2    0.057821 -1.44140  1.581800  1.25420  1.02540 -1.018900  \n",
              "3    1.136700 -0.84240  0.993120 -0.44576 -0.78778 -1.490900  \n",
              "4   -0.685860 -0.76161 -0.354560  0.83093 -0.27100  0.388610  \n",
              "..        ...      ...       ...      ...      ...       ...  \n",
              "106 -0.292200  0.13691 -0.439250 -1.56390  0.29082  0.023485  \n",
              "107  1.023700  0.26581  0.174520 -0.29601  1.13600  0.217580  \n",
              "108  1.115700 -0.14259 -0.481300 -1.58790 -0.23976  1.717000  \n",
              "109  0.338310 -1.23960 -1.197600 -0.35008  0.59517  0.803430  \n",
              "110  0.735140  0.88927  0.678760 -1.16430 -0.49661  0.503380  \n",
              "\n",
              "[111 rows x 512 columns]"
            ],
            "text/html": [
              "\n",
              "  <div id=\"df-7b63dd1b-9827-4bdb-bba6-6f9d9fc12831\">\n",
              "    <div class=\"colab-df-container\">\n",
              "      <div>\n",
              "<style scoped>\n",
              "    .dataframe tbody tr th:only-of-type {\n",
              "        vertical-align: middle;\n",
              "    }\n",
              "\n",
              "    .dataframe tbody tr th {\n",
              "        vertical-align: top;\n",
              "    }\n",
              "\n",
              "    .dataframe thead th {\n",
              "        text-align: right;\n",
              "    }\n",
              "</style>\n",
              "<table border=\"1\" class=\"dataframe\">\n",
              "  <thead>\n",
              "    <tr style=\"text-align: right;\">\n",
              "      <th></th>\n",
              "      <th>0</th>\n",
              "      <th>1</th>\n",
              "      <th>2</th>\n",
              "      <th>3</th>\n",
              "      <th>4</th>\n",
              "      <th>5</th>\n",
              "      <th>6</th>\n",
              "      <th>7</th>\n",
              "      <th>8</th>\n",
              "      <th>9</th>\n",
              "      <th>...</th>\n",
              "      <th>502</th>\n",
              "      <th>503</th>\n",
              "      <th>504</th>\n",
              "      <th>505</th>\n",
              "      <th>506</th>\n",
              "      <th>507</th>\n",
              "      <th>508</th>\n",
              "      <th>509</th>\n",
              "      <th>510</th>\n",
              "      <th>511</th>\n",
              "    </tr>\n",
              "  </thead>\n",
              "  <tbody>\n",
              "    <tr>\n",
              "      <th>0</th>\n",
              "      <td>3.4482</td>\n",
              "      <td>0.001314</td>\n",
              "      <td>0.157470</td>\n",
              "      <td>0.688300</td>\n",
              "      <td>0.152920</td>\n",
              "      <td>0.000000</td>\n",
              "      <td>0.00000</td>\n",
              "      <td>0.096603</td>\n",
              "      <td>0.52135</td>\n",
              "      <td>0.382050</td>\n",
              "      <td>...</td>\n",
              "      <td>-2.94590</td>\n",
              "      <td>0.219960</td>\n",
              "      <td>-0.69045</td>\n",
              "      <td>0.240440</td>\n",
              "      <td>-0.258640</td>\n",
              "      <td>1.33870</td>\n",
              "      <td>0.114820</td>\n",
              "      <td>-0.43046</td>\n",
              "      <td>0.82309</td>\n",
              "      <td>1.543500</td>\n",
              "    </tr>\n",
              "    <tr>\n",
              "      <th>1</th>\n",
              "      <td>3.3019</td>\n",
              "      <td>0.188490</td>\n",
              "      <td>0.553190</td>\n",
              "      <td>0.258290</td>\n",
              "      <td>0.000031</td>\n",
              "      <td>0.000000</td>\n",
              "      <td>0.00000</td>\n",
              "      <td>0.039008</td>\n",
              "      <td>0.43211</td>\n",
              "      <td>0.527160</td>\n",
              "      <td>...</td>\n",
              "      <td>-0.22680</td>\n",
              "      <td>-0.428570</td>\n",
              "      <td>0.74992</td>\n",
              "      <td>-0.111920</td>\n",
              "      <td>1.583000</td>\n",
              "      <td>0.88565</td>\n",
              "      <td>-0.053227</td>\n",
              "      <td>0.67796</td>\n",
              "      <td>-1.72010</td>\n",
              "      <td>-0.550510</td>\n",
              "    </tr>\n",
              "    <tr>\n",
              "      <th>2</th>\n",
              "      <td>2.2894</td>\n",
              "      <td>0.052169</td>\n",
              "      <td>0.438520</td>\n",
              "      <td>0.494030</td>\n",
              "      <td>0.015282</td>\n",
              "      <td>0.000000</td>\n",
              "      <td>0.00000</td>\n",
              "      <td>0.000000</td>\n",
              "      <td>0.00000</td>\n",
              "      <td>0.394840</td>\n",
              "      <td>...</td>\n",
              "      <td>1.15790</td>\n",
              "      <td>0.010118</td>\n",
              "      <td>0.73593</td>\n",
              "      <td>1.356000</td>\n",
              "      <td>0.057821</td>\n",
              "      <td>-1.44140</td>\n",
              "      <td>1.581800</td>\n",
              "      <td>1.25420</td>\n",
              "      <td>1.02540</td>\n",
              "      <td>-1.018900</td>\n",
              "    </tr>\n",
              "    <tr>\n",
              "      <th>3</th>\n",
              "      <td>2.6207</td>\n",
              "      <td>0.000000</td>\n",
              "      <td>0.000000</td>\n",
              "      <td>0.004213</td>\n",
              "      <td>0.109340</td>\n",
              "      <td>0.493440</td>\n",
              "      <td>0.39300</td>\n",
              "      <td>0.000000</td>\n",
              "      <td>0.00000</td>\n",
              "      <td>0.578540</td>\n",
              "      <td>...</td>\n",
              "      <td>-0.69767</td>\n",
              "      <td>1.577800</td>\n",
              "      <td>0.54899</td>\n",
              "      <td>-0.780420</td>\n",
              "      <td>1.136700</td>\n",
              "      <td>-0.84240</td>\n",
              "      <td>0.993120</td>\n",
              "      <td>-0.44576</td>\n",
              "      <td>-0.78778</td>\n",
              "      <td>-1.490900</td>\n",
              "    </tr>\n",
              "    <tr>\n",
              "      <th>4</th>\n",
              "      <td>2.8439</td>\n",
              "      <td>0.000000</td>\n",
              "      <td>0.000000</td>\n",
              "      <td>0.019504</td>\n",
              "      <td>0.260470</td>\n",
              "      <td>0.549860</td>\n",
              "      <td>0.17016</td>\n",
              "      <td>0.010568</td>\n",
              "      <td>0.30520</td>\n",
              "      <td>0.670460</td>\n",
              "      <td>...</td>\n",
              "      <td>-1.49170</td>\n",
              "      <td>-0.688640</td>\n",
              "      <td>-0.69924</td>\n",
              "      <td>0.360740</td>\n",
              "      <td>-0.685860</td>\n",
              "      <td>-0.76161</td>\n",
              "      <td>-0.354560</td>\n",
              "      <td>0.83093</td>\n",
              "      <td>-0.27100</td>\n",
              "      <td>0.388610</td>\n",
              "    </tr>\n",
              "    <tr>\n",
              "      <th>...</th>\n",
              "      <td>...</td>\n",
              "      <td>...</td>\n",
              "      <td>...</td>\n",
              "      <td>...</td>\n",
              "      <td>...</td>\n",
              "      <td>...</td>\n",
              "      <td>...</td>\n",
              "      <td>...</td>\n",
              "      <td>...</td>\n",
              "      <td>...</td>\n",
              "      <td>...</td>\n",
              "      <td>...</td>\n",
              "      <td>...</td>\n",
              "      <td>...</td>\n",
              "      <td>...</td>\n",
              "      <td>...</td>\n",
              "      <td>...</td>\n",
              "      <td>...</td>\n",
              "      <td>...</td>\n",
              "      <td>...</td>\n",
              "      <td>...</td>\n",
              "    </tr>\n",
              "    <tr>\n",
              "      <th>106</th>\n",
              "      <td>2.4101</td>\n",
              "      <td>0.301000</td>\n",
              "      <td>0.021904</td>\n",
              "      <td>0.000415</td>\n",
              "      <td>0.000000</td>\n",
              "      <td>0.000000</td>\n",
              "      <td>0.00000</td>\n",
              "      <td>0.000000</td>\n",
              "      <td>0.00000</td>\n",
              "      <td>0.051206</td>\n",
              "      <td>...</td>\n",
              "      <td>-1.56660</td>\n",
              "      <td>-1.097100</td>\n",
              "      <td>2.77450</td>\n",
              "      <td>0.679850</td>\n",
              "      <td>-0.292200</td>\n",
              "      <td>0.13691</td>\n",
              "      <td>-0.439250</td>\n",
              "      <td>-1.56390</td>\n",
              "      <td>0.29082</td>\n",
              "      <td>0.023485</td>\n",
              "    </tr>\n",
              "    <tr>\n",
              "      <th>107</th>\n",
              "      <td>3.1072</td>\n",
              "      <td>0.000734</td>\n",
              "      <td>0.138890</td>\n",
              "      <td>0.688740</td>\n",
              "      <td>0.171630</td>\n",
              "      <td>0.000000</td>\n",
              "      <td>0.00000</td>\n",
              "      <td>0.171260</td>\n",
              "      <td>0.54746</td>\n",
              "      <td>0.280340</td>\n",
              "      <td>...</td>\n",
              "      <td>-0.32440</td>\n",
              "      <td>-1.341500</td>\n",
              "      <td>-1.51650</td>\n",
              "      <td>0.870840</td>\n",
              "      <td>1.023700</td>\n",
              "      <td>0.26581</td>\n",
              "      <td>0.174520</td>\n",
              "      <td>-0.29601</td>\n",
              "      <td>1.13600</td>\n",
              "      <td>0.217580</td>\n",
              "    </tr>\n",
              "    <tr>\n",
              "      <th>108</th>\n",
              "      <td>2.4101</td>\n",
              "      <td>0.001095</td>\n",
              "      <td>0.151180</td>\n",
              "      <td>0.688720</td>\n",
              "      <td>0.159000</td>\n",
              "      <td>0.000000</td>\n",
              "      <td>0.00000</td>\n",
              "      <td>0.000000</td>\n",
              "      <td>0.00000</td>\n",
              "      <td>0.194760</td>\n",
              "      <td>...</td>\n",
              "      <td>-0.49572</td>\n",
              "      <td>-0.832130</td>\n",
              "      <td>0.52386</td>\n",
              "      <td>0.189400</td>\n",
              "      <td>1.115700</td>\n",
              "      <td>-0.14259</td>\n",
              "      <td>-0.481300</td>\n",
              "      <td>-1.58790</td>\n",
              "      <td>-0.23976</td>\n",
              "      <td>1.717000</td>\n",
              "    </tr>\n",
              "    <tr>\n",
              "      <th>109</th>\n",
              "      <td>2.6207</td>\n",
              "      <td>0.117370</td>\n",
              "      <td>0.526200</td>\n",
              "      <td>0.354590</td>\n",
              "      <td>0.001831</td>\n",
              "      <td>0.000000</td>\n",
              "      <td>0.00000</td>\n",
              "      <td>0.039008</td>\n",
              "      <td>0.43211</td>\n",
              "      <td>0.527160</td>\n",
              "      <td>...</td>\n",
              "      <td>-0.87353</td>\n",
              "      <td>0.063740</td>\n",
              "      <td>0.20128</td>\n",
              "      <td>0.090828</td>\n",
              "      <td>0.338310</td>\n",
              "      <td>-1.23960</td>\n",
              "      <td>-1.197600</td>\n",
              "      <td>-0.35008</td>\n",
              "      <td>0.59517</td>\n",
              "      <td>0.803430</td>\n",
              "    </tr>\n",
              "    <tr>\n",
              "      <th>110</th>\n",
              "      <td>2.7144</td>\n",
              "      <td>0.000000</td>\n",
              "      <td>0.020058</td>\n",
              "      <td>0.538580</td>\n",
              "      <td>0.436120</td>\n",
              "      <td>0.005236</td>\n",
              "      <td>0.00000</td>\n",
              "      <td>0.000000</td>\n",
              "      <td>0.00000</td>\n",
              "      <td>0.578540</td>\n",
              "      <td>...</td>\n",
              "      <td>0.69068</td>\n",
              "      <td>0.480600</td>\n",
              "      <td>1.87800</td>\n",
              "      <td>-1.188400</td>\n",
              "      <td>0.735140</td>\n",
              "      <td>0.88927</td>\n",
              "      <td>0.678760</td>\n",
              "      <td>-1.16430</td>\n",
              "      <td>-0.49661</td>\n",
              "      <td>0.503380</td>\n",
              "    </tr>\n",
              "  </tbody>\n",
              "</table>\n",
              "<p>111 rows × 512 columns</p>\n",
              "</div>\n",
              "      <button class=\"colab-df-convert\" onclick=\"convertToInteractive('df-7b63dd1b-9827-4bdb-bba6-6f9d9fc12831')\"\n",
              "              title=\"Convert this dataframe to an interactive table.\"\n",
              "              style=\"display:none;\">\n",
              "        \n",
              "  <svg xmlns=\"http://www.w3.org/2000/svg\" height=\"24px\"viewBox=\"0 0 24 24\"\n",
              "       width=\"24px\">\n",
              "    <path d=\"M0 0h24v24H0V0z\" fill=\"none\"/>\n",
              "    <path d=\"M18.56 5.44l.94 2.06.94-2.06 2.06-.94-2.06-.94-.94-2.06-.94 2.06-2.06.94zm-11 1L8.5 8.5l.94-2.06 2.06-.94-2.06-.94L8.5 2.5l-.94 2.06-2.06.94zm10 10l.94 2.06.94-2.06 2.06-.94-2.06-.94-.94-2.06-.94 2.06-2.06.94z\"/><path d=\"M17.41 7.96l-1.37-1.37c-.4-.4-.92-.59-1.43-.59-.52 0-1.04.2-1.43.59L10.3 9.45l-7.72 7.72c-.78.78-.78 2.05 0 2.83L4 21.41c.39.39.9.59 1.41.59.51 0 1.02-.2 1.41-.59l7.78-7.78 2.81-2.81c.8-.78.8-2.07 0-2.86zM5.41 20L4 18.59l7.72-7.72 1.47 1.35L5.41 20z\"/>\n",
              "  </svg>\n",
              "      </button>\n",
              "      \n",
              "  <style>\n",
              "    .colab-df-container {\n",
              "      display:flex;\n",
              "      flex-wrap:wrap;\n",
              "      gap: 12px;\n",
              "    }\n",
              "\n",
              "    .colab-df-convert {\n",
              "      background-color: #E8F0FE;\n",
              "      border: none;\n",
              "      border-radius: 50%;\n",
              "      cursor: pointer;\n",
              "      display: none;\n",
              "      fill: #1967D2;\n",
              "      height: 32px;\n",
              "      padding: 0 0 0 0;\n",
              "      width: 32px;\n",
              "    }\n",
              "\n",
              "    .colab-df-convert:hover {\n",
              "      background-color: #E2EBFA;\n",
              "      box-shadow: 0px 1px 2px rgba(60, 64, 67, 0.3), 0px 1px 3px 1px rgba(60, 64, 67, 0.15);\n",
              "      fill: #174EA6;\n",
              "    }\n",
              "\n",
              "    [theme=dark] .colab-df-convert {\n",
              "      background-color: #3B4455;\n",
              "      fill: #D2E3FC;\n",
              "    }\n",
              "\n",
              "    [theme=dark] .colab-df-convert:hover {\n",
              "      background-color: #434B5C;\n",
              "      box-shadow: 0px 1px 3px 1px rgba(0, 0, 0, 0.15);\n",
              "      filter: drop-shadow(0px 1px 2px rgba(0, 0, 0, 0.3));\n",
              "      fill: #FFFFFF;\n",
              "    }\n",
              "  </style>\n",
              "\n",
              "      <script>\n",
              "        const buttonEl =\n",
              "          document.querySelector('#df-7b63dd1b-9827-4bdb-bba6-6f9d9fc12831 button.colab-df-convert');\n",
              "        buttonEl.style.display =\n",
              "          google.colab.kernel.accessAllowed ? 'block' : 'none';\n",
              "\n",
              "        async function convertToInteractive(key) {\n",
              "          const element = document.querySelector('#df-7b63dd1b-9827-4bdb-bba6-6f9d9fc12831');\n",
              "          const dataTable =\n",
              "            await google.colab.kernel.invokeFunction('convertToInteractive',\n",
              "                                                     [key], {});\n",
              "          if (!dataTable) return;\n",
              "\n",
              "          const docLinkHtml = 'Like what you see? Visit the ' +\n",
              "            '<a target=\"_blank\" href=https://colab.research.google.com/notebooks/data_table.ipynb>data table notebook</a>'\n",
              "            + ' to learn more about interactive tables.';\n",
              "          element.innerHTML = '';\n",
              "          dataTable['output_type'] = 'display_data';\n",
              "          await google.colab.output.renderOutput(dataTable, element);\n",
              "          const docLink = document.createElement('div');\n",
              "          docLink.innerHTML = docLinkHtml;\n",
              "          element.appendChild(docLink);\n",
              "        }\n",
              "      </script>\n",
              "    </div>\n",
              "  </div>\n",
              "  "
            ]
          },
          "metadata": {},
          "execution_count": 7
        }
      ],
      "source": [
        "data"
      ]
    },
    {
      "cell_type": "code",
      "execution_count": null,
      "metadata": {
        "id": "gXouxddCsauH"
      },
      "outputs": [],
      "source": [
        "x = data.loc[:,'1':'511'].values # input features\n",
        "y = data.iloc[:,0].values # response variable"
      ]
    },
    {
      "cell_type": "code",
      "execution_count": null,
      "metadata": {
        "id": "6oMsyVTftO2Y"
      },
      "outputs": [],
      "source": [
        "#x = pd.DataFrame(data=x)"
      ]
    },
    {
      "cell_type": "code",
      "execution_count": null,
      "metadata": {
        "colab": {
          "base_uri": "https://localhost:8080/"
        },
        "id": "sE1WC2OwtgYs",
        "outputId": "4aa90f27-4ff9-46c0-effd-db7cd6a8372e"
      },
      "outputs": [
        {
          "output_type": "execute_result",
          "data": {
            "text/plain": [
              "array([[ 1.3136e-03,  1.5747e-01,  6.8830e-01, ..., -4.3046e-01,\n",
              "         8.2309e-01,  1.5435e+00],\n",
              "       [ 1.8849e-01,  5.5319e-01,  2.5829e-01, ...,  6.7796e-01,\n",
              "        -1.7201e+00, -5.5051e-01],\n",
              "       [ 5.2169e-02,  4.3852e-01,  4.9403e-01, ...,  1.2542e+00,\n",
              "         1.0254e+00, -1.0189e+00],\n",
              "       ...,\n",
              "       [ 1.0952e-03,  1.5118e-01,  6.8872e-01, ..., -1.5879e+00,\n",
              "        -2.3976e-01,  1.7170e+00],\n",
              "       [ 1.1737e-01,  5.2620e-01,  3.5459e-01, ..., -3.5008e-01,\n",
              "         5.9517e-01,  8.0343e-01],\n",
              "       [ 0.0000e+00,  2.0058e-02,  5.3858e-01, ..., -1.1643e+00,\n",
              "        -4.9661e-01,  5.0338e-01]])"
            ]
          },
          "metadata": {},
          "execution_count": 9
        }
      ],
      "source": [
        "x # what does x (input features) look like?"
      ]
    },
    {
      "cell_type": "code",
      "execution_count": null,
      "metadata": {
        "id": "q-VouuSfoG0I"
      },
      "outputs": [],
      "source": [
        "#x # what does x (input features) look like?"
      ]
    },
    {
      "cell_type": "code",
      "execution_count": null,
      "metadata": {
        "colab": {
          "base_uri": "https://localhost:8080/"
        },
        "id": "0eda2-l8reCP",
        "outputId": "e6742713-e3c0-48c5-b18d-d1950392d486"
      },
      "outputs": [
        {
          "output_type": "execute_result",
          "data": {
            "text/plain": [
              "(111, 511)"
            ]
          },
          "metadata": {},
          "execution_count": 10
        }
      ],
      "source": [
        "x.shape # shape of x"
      ]
    },
    {
      "cell_type": "code",
      "execution_count": null,
      "metadata": {
        "colab": {
          "base_uri": "https://localhost:8080/"
        },
        "id": "tP2R0j36qRAK",
        "outputId": "e37b976d-8cc3-4a96-8c56-bcecea0e3216"
      },
      "outputs": [
        {
          "output_type": "execute_result",
          "data": {
            "text/plain": [
              "array([3.4482, 3.3019, 2.2894, 2.6207, 2.8439, 2.6684, 2.    , 2.5198,\n",
              "       2.224 , 2.4101, 2.6207, 2.4101, 3.2396, 1.8171, 3.1072, 2.224 ,\n",
              "       1.    , 2.224 , 1.5874, 3.1748, 2.8439, 3.5569, 4.8629, 3.3322,\n",
              "       3.0723, 4.1408, 3.3912, 2.8439, 2.7589, 3.3322, 2.7144, 2.2894,\n",
              "       2.3513, 5.1299, 3.6593, 3.1748, 4.    , 3.42  , 4.2543, 4.5947,\n",
              "       4.5947, 4.3968, 2.1544, 3.    , 1.9129, 3.6342, 3.2711, 3.9365,\n",
              "       4.2908, 3.9791, 2.5198, 4.3089, 4.7622, 2.7144, 3.7325, 4.3445,\n",
              "       3.684 , 4.    , 3.893 , 3.3912, 2.0801, 2.5198, 4.9597, 4.4647,\n",
              "       4.7914, 3.5303, 3.0366, 4.0207, 2.802 , 3.893 , 2.8439, 3.1414,\n",
              "       3.5303, 2.7589, 2.0801, 3.5569, 5.5178, 4.1793, 4.2358, 4.9049,\n",
              "       4.3795, 4.3968, 4.5789, 4.2727, 4.1793, 4.4979, 3.6088, 3.1748,\n",
              "       2.7144, 2.8439, 2.7589, 2.8845, 3.5303, 2.7589, 3.0366, 2.0801,\n",
              "       2.3513, 3.583 , 2.6207, 2.3513, 2.8845, 2.5198, 2.3513, 2.8439,\n",
              "       3.3019, 1.9129, 2.4101, 3.1072, 2.4101, 2.6207, 2.7144])"
            ]
          },
          "metadata": {},
          "execution_count": 11
        }
      ],
      "source": [
        "y # what does our response variable look like? "
      ]
    },
    {
      "cell_type": "code",
      "execution_count": null,
      "metadata": {
        "colab": {
          "base_uri": "https://localhost:8080/"
        },
        "id": "2Rn5bXbwqSOv",
        "outputId": "9dad9263-37e5-4e8b-8575-20238797e849"
      },
      "outputs": [
        {
          "output_type": "execute_result",
          "data": {
            "text/plain": [
              "(111,)"
            ]
          },
          "metadata": {},
          "execution_count": 12
        }
      ],
      "source": [
        "y.shape #shape of y "
      ]
    },
    {
      "cell_type": "code",
      "execution_count": null,
      "metadata": {
        "id": "k3dJnmd7Xsfx"
      },
      "outputs": [],
      "source": [
        "scale = StandardScaler()"
      ]
    },
    {
      "cell_type": "markdown",
      "metadata": {
        "id": "WHsNXuF7V3Y1"
      },
      "source": [
        "## Creating Functions"
      ]
    },
    {
      "cell_type": "code",
      "execution_count": null,
      "metadata": {
        "id": "iQCep8hyrmlI"
      },
      "outputs": [],
      "source": [
        "kf = KFold(n_splits=10,shuffle=True,random_state=123)"
      ]
    },
    {
      "cell_type": "code",
      "execution_count": null,
      "metadata": {
        "id": "vrW--GrYsJBI"
      },
      "outputs": [],
      "source": [
        "# Objective function for particle swarm optimization: elastic net \n",
        "def objective_pso_elasticnet(h):\n",
        "  output = []\n",
        "  for i in range(h.shape[0]):\n",
        "    a = h[i,0]\n",
        "    l = h[i,1]\n",
        "    model = ElasticNet(alpha=a,l1_ratio=l,max_iter=5000)# is you want to use Support Vector Recgression, use SVR\n",
        "    PE = []\n",
        "    for idxtrain, idxtest in kf.split(x):\n",
        "      xtrain = x[idxtrain]#going through and collecting MSE?\n",
        "      ytrain = y[idxtrain]\n",
        "      xtrain = scale.fit_transform(xtrain)\n",
        "      xtest = x[idxtest]\n",
        "      ytest = y[idxtest]\n",
        "      xtest = scale.transform(xtest)\n",
        "      model.fit(xtrain,ytrain)\n",
        "      PE.append(MSE(ytest,model.predict(xtest)))\n",
        "    output.append(np.mean(PE))\n",
        "  return output"
      ]
    },
    {
      "cell_type": "code",
      "execution_count": null,
      "metadata": {
        "id": "GZltTfzox_CW"
      },
      "outputs": [],
      "source": [
        "# Objective function for particle swarm optimization: support vector regression\n",
        "def objective_pso_svr(h):\n",
        "  output = []\n",
        "  for i in range(h.shape[0]):\n",
        "    c_new = h[i,0]\n",
        "    eps = h[i,1]\n",
        "    model = SVR(kernel='linear', C=c_new, epsilon=eps, max_iter=5000)# is you want to use Support Vector Recgression, use SVR\n",
        "    PE = []\n",
        "    for idxtrain, idxtest in kf.split(x):\n",
        "      xtrain = x[idxtrain]#going through and collecting MSE?\n",
        "      ytrain = y[idxtrain]\n",
        "      xtrain = scale.fit_transform(xtrain)\n",
        "      xtest = x[idxtest]\n",
        "      ytest = y[idxtest]\n",
        "      xtest = scale.transform(xtest)\n",
        "      model.fit(xtrain,ytrain)\n",
        "      PE.append(MSE(ytest,model.predict(xtest)))\n",
        "    output.append(np.mean(PE))\n",
        "  return output"
      ]
    },
    {
      "cell_type": "code",
      "execution_count": null,
      "metadata": {
        "id": "EXSS5lN7uQ-m"
      },
      "outputs": [],
      "source": [
        "# objective function: elastic net \n",
        "def objective_elasticnet(h):\n",
        "  a = h[0]\n",
        "  l = h[1]\n",
        "  model = ElasticNet(alpha=a,l1_ratio=l,max_iter=5000)# if you want to use Support Vector Recgression, use SVR\n",
        "  PE = []\n",
        "  for idxtrain, idxtest in kf.split(x):\n",
        "    xtrain = x[idxtrain]#going through and collecting MSE?\n",
        "    ytrain = y[idxtrain]\n",
        "    xtrain = scale.fit_transform(xtrain)\n",
        "    xtest = x[idxtest]\n",
        "    ytest = y[idxtest]\n",
        "    xtest = scale.transform(xtest)\n",
        "    model.fit(xtrain,ytrain)\n",
        "    PE.append(MSE(ytest,model.predict(xtest)))\n",
        "  return np.mean(PE)"
      ]
    },
    {
      "cell_type": "code",
      "execution_count": null,
      "metadata": {
        "id": "jMa5ges30tRL"
      },
      "outputs": [],
      "source": [
        "# objective function: support vector regression\n",
        "def objective_svr(h):#use objective function for simulated annealing and genetic algorithm\n",
        "  c_new_2 = h[0]\n",
        "  eps_1 = h[1]\n",
        "  model = SVR(kernel='linear', C=c_new_2, epsilon=eps_1, max_iter=5000)# is you want to use Support Vector Recgression, use SVR\n",
        "  PE = []\n",
        "  for idxtrain, idxtest in kf.split(x):\n",
        "    xtrain = x[idxtrain]#going through and collecting MSE?\n",
        "    ytrain = y[idxtrain]\n",
        "    xtrain = scale.fit_transform(xtrain)\n",
        "    xtest = x[idxtest]\n",
        "    ytest = y[idxtest]\n",
        "    xtest = scale.transform(xtest)\n",
        "    model.fit(xtrain,ytrain)\n",
        "    PE.append(MSE(ytest,model.predict(xtest)))\n",
        "  return np.mean(PE)"
      ]
    },
    {
      "cell_type": "markdown",
      "metadata": {
        "id": "Hals1IOB5lCq"
      },
      "source": [
        "## Trying to find values "
      ]
    },
    {
      "cell_type": "markdown",
      "source": [
        "---\n",
        "Particle Swarm Optimization: ElasticNet"
      ],
      "metadata": {
        "id": "KCSuBwZmbqbb"
      }
    },
    {
      "cell_type": "code",
      "execution_count": null,
      "metadata": {
        "colab": {
          "background_save": true,
          "base_uri": "https://localhost:8080/"
        },
        "id": "10gNU9qB4sOp",
        "outputId": "11bc0f1b-213d-424f-b8f8-c6616bdd32dd"
      },
      "outputs": [
        {
          "name": "stderr",
          "output_type": "stream",
          "text": [
            "2022-07-28 03:44:43,565 - pyswarms.single.global_best - INFO - Optimize for 1000 iters with {'c1': 0.25, 'c2': 0.25, 'w': 0.5}\n",
            "pyswarms.single.global_best: 100%|██████████|1000/1000, best_cost=0.258\n",
            "2022-07-28 04:05:32,793 - pyswarms.single.global_best - INFO - Optimization finished | best cost: 0.2580610603170471, best pos: [1.17251074 0.00437475]\n"
          ]
        }
      ],
      "source": [
        "#initializer for pso: elastic net \n",
        "max = np.array([3,1])\n",
        "min = np.array([0,0])\n",
        "bounds = (min, max)\n",
        "options = {'c1': 0.25, 'c2': 0.25, 'w': 0.5}\n",
        "optimizer = ps.single.GlobalBestPSO(n_particles=25, dimensions=2, options=options, bounds=bounds)\n",
        "cost, pos = optimizer.optimize(objective_pso_elasticnet, iters=1000)"
      ]
    },
    {
      "cell_type": "markdown",
      "source": [
        "Particle Swarm Optimization: Support Vector Regression"
      ],
      "metadata": {
        "id": "-ll5m6mRbwKF"
      }
    },
    {
      "cell_type": "code",
      "execution_count": null,
      "metadata": {
        "colab": {
          "base_uri": "https://localhost:8080/"
        },
        "id": "BLF-KObf8-uk",
        "outputId": "a3deeeaf-6478-4eae-def4-b5eae8e630e1"
      },
      "outputs": [
        {
          "output_type": "stream",
          "name": "stderr",
          "text": [
            "2022-08-01 01:21:38,855 - pyswarms.single.global_best - INFO - Optimize for 1000 iters with {'c1': 0.25, 'c2': 0.25, 'w': 0.5}\n",
            "pyswarms.single.global_best: 100%|██████████|1000/1000, best_cost=0.269\n",
            "2022-08-01 01:39:30,088 - pyswarms.single.global_best - INFO - Optimization finished | best cost: 0.2685829116246037, best pos: [1.38020277 0.12656448]\n"
          ]
        }
      ],
      "source": [
        "#initializer for pso: svr\n",
        "max = np.array([3,1])\n",
        "min = np.array([0,0])\n",
        "bounds = (min, max)\n",
        "options = {'c1': 0.25, 'c2': 0.25, 'w': 0.5}\n",
        "optimizer = ps.single.GlobalBestPSO(n_particles=25, dimensions=2, options=options, bounds=bounds)\n",
        "cost, pos = optimizer.optimize(objective_pso_svr, iters=1000)"
      ]
    },
    {
      "cell_type": "markdown",
      "source": [
        "---\n",
        "Genetic Algorithm: ElasticNet"
      ],
      "metadata": {
        "id": "AAY6d5O9b5qd"
      }
    },
    {
      "cell_type": "code",
      "execution_count": null,
      "metadata": {
        "id": "b4WOK2EP-UTH",
        "colab": {
          "base_uri": "https://localhost:8080/",
          "height": 1000
        },
        "outputId": "ac02c206-a88b-4071-9c98-2b3b55ab9c25"
      },
      "outputs": [
        {
          "output_type": "stream",
          "name": "stdout",
          "text": [
            "||||||||||||||||__________________________________ 33.0% GA is running..."
          ]
        },
        {
          "output_type": "stream",
          "name": "stderr",
          "text": [
            "/usr/local/lib/python3.7/dist-packages/sklearn/linear_model/_coordinate_descent.py:648: ConvergenceWarning: Objective did not converge. You might want to increase the number of iterations, check the scale of the features or consider increasing regularisation. Duality gap: 1.230e-02, tolerance: 7.699e-03\n",
            "  coef_, l1_reg, l2_reg, X, y, max_iter, tol, rng, random, positive\n",
            "/usr/local/lib/python3.7/dist-packages/sklearn/linear_model/_coordinate_descent.py:648: ConvergenceWarning: Objective did not converge. You might want to increase the number of iterations, check the scale of the features or consider increasing regularisation. Duality gap: 1.321e-02, tolerance: 8.321e-03\n",
            "  coef_, l1_reg, l2_reg, X, y, max_iter, tol, rng, random, positive\n",
            "/usr/local/lib/python3.7/dist-packages/sklearn/linear_model/_coordinate_descent.py:648: ConvergenceWarning: Objective did not converge. You might want to increase the number of iterations, check the scale of the features or consider increasing regularisation. Duality gap: 1.256e-02, tolerance: 8.106e-03\n",
            "  coef_, l1_reg, l2_reg, X, y, max_iter, tol, rng, random, positive\n",
            "/usr/local/lib/python3.7/dist-packages/sklearn/linear_model/_coordinate_descent.py:648: ConvergenceWarning: Objective did not converge. You might want to increase the number of iterations, check the scale of the features or consider increasing regularisation. Duality gap: 1.301e-02, tolerance: 8.022e-03\n",
            "  coef_, l1_reg, l2_reg, X, y, max_iter, tol, rng, random, positive\n",
            "/usr/local/lib/python3.7/dist-packages/sklearn/linear_model/_coordinate_descent.py:648: ConvergenceWarning: Objective did not converge. You might want to increase the number of iterations, check the scale of the features or consider increasing regularisation. Duality gap: 1.299e-02, tolerance: 7.907e-03\n",
            "  coef_, l1_reg, l2_reg, X, y, max_iter, tol, rng, random, positive\n",
            "/usr/local/lib/python3.7/dist-packages/sklearn/linear_model/_coordinate_descent.py:648: ConvergenceWarning: Objective did not converge. You might want to increase the number of iterations, check the scale of the features or consider increasing regularisation. Duality gap: 1.216e-02, tolerance: 7.389e-03\n",
            "  coef_, l1_reg, l2_reg, X, y, max_iter, tol, rng, random, positive\n",
            "/usr/local/lib/python3.7/dist-packages/sklearn/linear_model/_coordinate_descent.py:648: ConvergenceWarning: Objective did not converge. You might want to increase the number of iterations, check the scale of the features or consider increasing regularisation. Duality gap: 1.105e-02, tolerance: 7.028e-03\n",
            "  coef_, l1_reg, l2_reg, X, y, max_iter, tol, rng, random, positive\n",
            "/usr/local/lib/python3.7/dist-packages/sklearn/linear_model/_coordinate_descent.py:648: ConvergenceWarning: Objective did not converge. You might want to increase the number of iterations, check the scale of the features or consider increasing regularisation. Duality gap: 1.207e-02, tolerance: 7.620e-03\n",
            "  coef_, l1_reg, l2_reg, X, y, max_iter, tol, rng, random, positive\n",
            "/usr/local/lib/python3.7/dist-packages/sklearn/linear_model/_coordinate_descent.py:648: ConvergenceWarning: Objective did not converge. You might want to increase the number of iterations, check the scale of the features or consider increasing regularisation. Duality gap: 1.332e-02, tolerance: 8.122e-03\n",
            "  coef_, l1_reg, l2_reg, X, y, max_iter, tol, rng, random, positive\n",
            "/usr/local/lib/python3.7/dist-packages/sklearn/linear_model/_coordinate_descent.py:648: ConvergenceWarning: Objective did not converge. You might want to increase the number of iterations, check the scale of the features or consider increasing regularisation. Duality gap: 1.354e-02, tolerance: 8.176e-03\n",
            "  coef_, l1_reg, l2_reg, X, y, max_iter, tol, rng, random, positive\n"
          ]
        },
        {
          "output_type": "stream",
          "name": "stdout",
          "text": [
            "||||||||||||||||||________________________________ 35.0% GA is running..."
          ]
        },
        {
          "output_type": "stream",
          "name": "stderr",
          "text": [
            "/usr/local/lib/python3.7/dist-packages/sklearn/linear_model/_coordinate_descent.py:648: ConvergenceWarning: Objective did not converge. You might want to increase the number of iterations, check the scale of the features or consider increasing regularisation. Duality gap: 1.534e-02, tolerance: 7.699e-03\n",
            "  coef_, l1_reg, l2_reg, X, y, max_iter, tol, rng, random, positive\n",
            "/usr/local/lib/python3.7/dist-packages/sklearn/linear_model/_coordinate_descent.py:648: ConvergenceWarning: Objective did not converge. You might want to increase the number of iterations, check the scale of the features or consider increasing regularisation. Duality gap: 1.648e-02, tolerance: 8.321e-03\n",
            "  coef_, l1_reg, l2_reg, X, y, max_iter, tol, rng, random, positive\n",
            "/usr/local/lib/python3.7/dist-packages/sklearn/linear_model/_coordinate_descent.py:648: ConvergenceWarning: Objective did not converge. You might want to increase the number of iterations, check the scale of the features or consider increasing regularisation. Duality gap: 1.644e-02, tolerance: 8.106e-03\n",
            "  coef_, l1_reg, l2_reg, X, y, max_iter, tol, rng, random, positive\n",
            "/usr/local/lib/python3.7/dist-packages/sklearn/linear_model/_coordinate_descent.py:648: ConvergenceWarning: Objective did not converge. You might want to increase the number of iterations, check the scale of the features or consider increasing regularisation. Duality gap: 1.723e-02, tolerance: 8.022e-03\n",
            "  coef_, l1_reg, l2_reg, X, y, max_iter, tol, rng, random, positive\n",
            "/usr/local/lib/python3.7/dist-packages/sklearn/linear_model/_coordinate_descent.py:648: ConvergenceWarning: Objective did not converge. You might want to increase the number of iterations, check the scale of the features or consider increasing regularisation. Duality gap: 1.577e-02, tolerance: 7.907e-03\n",
            "  coef_, l1_reg, l2_reg, X, y, max_iter, tol, rng, random, positive\n",
            "/usr/local/lib/python3.7/dist-packages/sklearn/linear_model/_coordinate_descent.py:648: ConvergenceWarning: Objective did not converge. You might want to increase the number of iterations, check the scale of the features or consider increasing regularisation. Duality gap: 1.522e-02, tolerance: 7.389e-03\n",
            "  coef_, l1_reg, l2_reg, X, y, max_iter, tol, rng, random, positive\n",
            "/usr/local/lib/python3.7/dist-packages/sklearn/linear_model/_coordinate_descent.py:648: ConvergenceWarning: Objective did not converge. You might want to increase the number of iterations, check the scale of the features or consider increasing regularisation. Duality gap: 1.373e-02, tolerance: 7.028e-03\n",
            "  coef_, l1_reg, l2_reg, X, y, max_iter, tol, rng, random, positive\n",
            "/usr/local/lib/python3.7/dist-packages/sklearn/linear_model/_coordinate_descent.py:648: ConvergenceWarning: Objective did not converge. You might want to increase the number of iterations, check the scale of the features or consider increasing regularisation. Duality gap: 1.512e-02, tolerance: 7.620e-03\n",
            "  coef_, l1_reg, l2_reg, X, y, max_iter, tol, rng, random, positive\n",
            "/usr/local/lib/python3.7/dist-packages/sklearn/linear_model/_coordinate_descent.py:648: ConvergenceWarning: Objective did not converge. You might want to increase the number of iterations, check the scale of the features or consider increasing regularisation. Duality gap: 1.680e-02, tolerance: 8.122e-03\n",
            "  coef_, l1_reg, l2_reg, X, y, max_iter, tol, rng, random, positive\n",
            "/usr/local/lib/python3.7/dist-packages/sklearn/linear_model/_coordinate_descent.py:648: ConvergenceWarning: Objective did not converge. You might want to increase the number of iterations, check the scale of the features or consider increasing regularisation. Duality gap: 1.734e-02, tolerance: 8.176e-03\n",
            "  coef_, l1_reg, l2_reg, X, y, max_iter, tol, rng, random, positive\n"
          ]
        },
        {
          "output_type": "stream",
          "name": "stdout",
          "text": [
            "\r||||||||||||||||||________________________________ 35.5% GA is running..."
          ]
        },
        {
          "output_type": "stream",
          "name": "stderr",
          "text": [
            "/usr/local/lib/python3.7/dist-packages/sklearn/linear_model/_coordinate_descent.py:648: ConvergenceWarning: Objective did not converge. You might want to increase the number of iterations, check the scale of the features or consider increasing regularisation. Duality gap: 1.534e-02, tolerance: 7.699e-03\n",
            "  coef_, l1_reg, l2_reg, X, y, max_iter, tol, rng, random, positive\n",
            "/usr/local/lib/python3.7/dist-packages/sklearn/linear_model/_coordinate_descent.py:648: ConvergenceWarning: Objective did not converge. You might want to increase the number of iterations, check the scale of the features or consider increasing regularisation. Duality gap: 1.648e-02, tolerance: 8.321e-03\n",
            "  coef_, l1_reg, l2_reg, X, y, max_iter, tol, rng, random, positive\n",
            "/usr/local/lib/python3.7/dist-packages/sklearn/linear_model/_coordinate_descent.py:648: ConvergenceWarning: Objective did not converge. You might want to increase the number of iterations, check the scale of the features or consider increasing regularisation. Duality gap: 1.644e-02, tolerance: 8.106e-03\n",
            "  coef_, l1_reg, l2_reg, X, y, max_iter, tol, rng, random, positive\n",
            "/usr/local/lib/python3.7/dist-packages/sklearn/linear_model/_coordinate_descent.py:648: ConvergenceWarning: Objective did not converge. You might want to increase the number of iterations, check the scale of the features or consider increasing regularisation. Duality gap: 1.723e-02, tolerance: 8.022e-03\n",
            "  coef_, l1_reg, l2_reg, X, y, max_iter, tol, rng, random, positive\n",
            "/usr/local/lib/python3.7/dist-packages/sklearn/linear_model/_coordinate_descent.py:648: ConvergenceWarning: Objective did not converge. You might want to increase the number of iterations, check the scale of the features or consider increasing regularisation. Duality gap: 1.577e-02, tolerance: 7.907e-03\n",
            "  coef_, l1_reg, l2_reg, X, y, max_iter, tol, rng, random, positive\n",
            "/usr/local/lib/python3.7/dist-packages/sklearn/linear_model/_coordinate_descent.py:648: ConvergenceWarning: Objective did not converge. You might want to increase the number of iterations, check the scale of the features or consider increasing regularisation. Duality gap: 1.522e-02, tolerance: 7.389e-03\n",
            "  coef_, l1_reg, l2_reg, X, y, max_iter, tol, rng, random, positive\n",
            "/usr/local/lib/python3.7/dist-packages/sklearn/linear_model/_coordinate_descent.py:648: ConvergenceWarning: Objective did not converge. You might want to increase the number of iterations, check the scale of the features or consider increasing regularisation. Duality gap: 1.373e-02, tolerance: 7.028e-03\n",
            "  coef_, l1_reg, l2_reg, X, y, max_iter, tol, rng, random, positive\n",
            "/usr/local/lib/python3.7/dist-packages/sklearn/linear_model/_coordinate_descent.py:648: ConvergenceWarning: Objective did not converge. You might want to increase the number of iterations, check the scale of the features or consider increasing regularisation. Duality gap: 1.512e-02, tolerance: 7.620e-03\n",
            "  coef_, l1_reg, l2_reg, X, y, max_iter, tol, rng, random, positive\n",
            "/usr/local/lib/python3.7/dist-packages/sklearn/linear_model/_coordinate_descent.py:648: ConvergenceWarning: Objective did not converge. You might want to increase the number of iterations, check the scale of the features or consider increasing regularisation. Duality gap: 1.680e-02, tolerance: 8.122e-03\n",
            "  coef_, l1_reg, l2_reg, X, y, max_iter, tol, rng, random, positive\n",
            "/usr/local/lib/python3.7/dist-packages/sklearn/linear_model/_coordinate_descent.py:648: ConvergenceWarning: Objective did not converge. You might want to increase the number of iterations, check the scale of the features or consider increasing regularisation. Duality gap: 1.734e-02, tolerance: 8.176e-03\n",
            "  coef_, l1_reg, l2_reg, X, y, max_iter, tol, rng, random, positive\n"
          ]
        },
        {
          "output_type": "stream",
          "name": "stdout",
          "text": [
            "\r||||||||||||||||||________________________________ 36.0% GA is running..."
          ]
        },
        {
          "output_type": "stream",
          "name": "stderr",
          "text": [
            "/usr/local/lib/python3.7/dist-packages/sklearn/linear_model/_coordinate_descent.py:648: ConvergenceWarning: Objective did not converge. You might want to increase the number of iterations, check the scale of the features or consider increasing regularisation. Duality gap: 1.534e-02, tolerance: 7.699e-03\n",
            "  coef_, l1_reg, l2_reg, X, y, max_iter, tol, rng, random, positive\n",
            "/usr/local/lib/python3.7/dist-packages/sklearn/linear_model/_coordinate_descent.py:648: ConvergenceWarning: Objective did not converge. You might want to increase the number of iterations, check the scale of the features or consider increasing regularisation. Duality gap: 1.648e-02, tolerance: 8.321e-03\n",
            "  coef_, l1_reg, l2_reg, X, y, max_iter, tol, rng, random, positive\n",
            "/usr/local/lib/python3.7/dist-packages/sklearn/linear_model/_coordinate_descent.py:648: ConvergenceWarning: Objective did not converge. You might want to increase the number of iterations, check the scale of the features or consider increasing regularisation. Duality gap: 1.644e-02, tolerance: 8.106e-03\n",
            "  coef_, l1_reg, l2_reg, X, y, max_iter, tol, rng, random, positive\n",
            "/usr/local/lib/python3.7/dist-packages/sklearn/linear_model/_coordinate_descent.py:648: ConvergenceWarning: Objective did not converge. You might want to increase the number of iterations, check the scale of the features or consider increasing regularisation. Duality gap: 1.723e-02, tolerance: 8.022e-03\n",
            "  coef_, l1_reg, l2_reg, X, y, max_iter, tol, rng, random, positive\n",
            "/usr/local/lib/python3.7/dist-packages/sklearn/linear_model/_coordinate_descent.py:648: ConvergenceWarning: Objective did not converge. You might want to increase the number of iterations, check the scale of the features or consider increasing regularisation. Duality gap: 1.577e-02, tolerance: 7.907e-03\n",
            "  coef_, l1_reg, l2_reg, X, y, max_iter, tol, rng, random, positive\n",
            "/usr/local/lib/python3.7/dist-packages/sklearn/linear_model/_coordinate_descent.py:648: ConvergenceWarning: Objective did not converge. You might want to increase the number of iterations, check the scale of the features or consider increasing regularisation. Duality gap: 1.522e-02, tolerance: 7.389e-03\n",
            "  coef_, l1_reg, l2_reg, X, y, max_iter, tol, rng, random, positive\n",
            "/usr/local/lib/python3.7/dist-packages/sklearn/linear_model/_coordinate_descent.py:648: ConvergenceWarning: Objective did not converge. You might want to increase the number of iterations, check the scale of the features or consider increasing regularisation. Duality gap: 1.373e-02, tolerance: 7.028e-03\n",
            "  coef_, l1_reg, l2_reg, X, y, max_iter, tol, rng, random, positive\n",
            "/usr/local/lib/python3.7/dist-packages/sklearn/linear_model/_coordinate_descent.py:648: ConvergenceWarning: Objective did not converge. You might want to increase the number of iterations, check the scale of the features or consider increasing regularisation. Duality gap: 1.512e-02, tolerance: 7.620e-03\n",
            "  coef_, l1_reg, l2_reg, X, y, max_iter, tol, rng, random, positive\n",
            "/usr/local/lib/python3.7/dist-packages/sklearn/linear_model/_coordinate_descent.py:648: ConvergenceWarning: Objective did not converge. You might want to increase the number of iterations, check the scale of the features or consider increasing regularisation. Duality gap: 1.680e-02, tolerance: 8.122e-03\n",
            "  coef_, l1_reg, l2_reg, X, y, max_iter, tol, rng, random, positive\n",
            "/usr/local/lib/python3.7/dist-packages/sklearn/linear_model/_coordinate_descent.py:648: ConvergenceWarning: Objective did not converge. You might want to increase the number of iterations, check the scale of the features or consider increasing regularisation. Duality gap: 1.734e-02, tolerance: 8.176e-03\n",
            "  coef_, l1_reg, l2_reg, X, y, max_iter, tol, rng, random, positive\n",
            "/usr/local/lib/python3.7/dist-packages/sklearn/linear_model/_coordinate_descent.py:648: ConvergenceWarning: Objective did not converge. You might want to increase the number of iterations, check the scale of the features or consider increasing regularisation. Duality gap: 1.534e-02, tolerance: 7.699e-03\n",
            "  coef_, l1_reg, l2_reg, X, y, max_iter, tol, rng, random, positive\n",
            "/usr/local/lib/python3.7/dist-packages/sklearn/linear_model/_coordinate_descent.py:648: ConvergenceWarning: Objective did not converge. You might want to increase the number of iterations, check the scale of the features or consider increasing regularisation. Duality gap: 1.648e-02, tolerance: 8.321e-03\n",
            "  coef_, l1_reg, l2_reg, X, y, max_iter, tol, rng, random, positive\n",
            "/usr/local/lib/python3.7/dist-packages/sklearn/linear_model/_coordinate_descent.py:648: ConvergenceWarning: Objective did not converge. You might want to increase the number of iterations, check the scale of the features or consider increasing regularisation. Duality gap: 1.644e-02, tolerance: 8.106e-03\n",
            "  coef_, l1_reg, l2_reg, X, y, max_iter, tol, rng, random, positive\n",
            "/usr/local/lib/python3.7/dist-packages/sklearn/linear_model/_coordinate_descent.py:648: ConvergenceWarning: Objective did not converge. You might want to increase the number of iterations, check the scale of the features or consider increasing regularisation. Duality gap: 1.723e-02, tolerance: 8.022e-03\n",
            "  coef_, l1_reg, l2_reg, X, y, max_iter, tol, rng, random, positive\n",
            "/usr/local/lib/python3.7/dist-packages/sklearn/linear_model/_coordinate_descent.py:648: ConvergenceWarning: Objective did not converge. You might want to increase the number of iterations, check the scale of the features or consider increasing regularisation. Duality gap: 1.577e-02, tolerance: 7.907e-03\n",
            "  coef_, l1_reg, l2_reg, X, y, max_iter, tol, rng, random, positive\n",
            "/usr/local/lib/python3.7/dist-packages/sklearn/linear_model/_coordinate_descent.py:648: ConvergenceWarning: Objective did not converge. You might want to increase the number of iterations, check the scale of the features or consider increasing regularisation. Duality gap: 1.522e-02, tolerance: 7.389e-03\n",
            "  coef_, l1_reg, l2_reg, X, y, max_iter, tol, rng, random, positive\n",
            "/usr/local/lib/python3.7/dist-packages/sklearn/linear_model/_coordinate_descent.py:648: ConvergenceWarning: Objective did not converge. You might want to increase the number of iterations, check the scale of the features or consider increasing regularisation. Duality gap: 1.373e-02, tolerance: 7.028e-03\n",
            "  coef_, l1_reg, l2_reg, X, y, max_iter, tol, rng, random, positive\n",
            "/usr/local/lib/python3.7/dist-packages/sklearn/linear_model/_coordinate_descent.py:648: ConvergenceWarning: Objective did not converge. You might want to increase the number of iterations, check the scale of the features or consider increasing regularisation. Duality gap: 1.512e-02, tolerance: 7.620e-03\n",
            "  coef_, l1_reg, l2_reg, X, y, max_iter, tol, rng, random, positive\n",
            "/usr/local/lib/python3.7/dist-packages/sklearn/linear_model/_coordinate_descent.py:648: ConvergenceWarning: Objective did not converge. You might want to increase the number of iterations, check the scale of the features or consider increasing regularisation. Duality gap: 1.680e-02, tolerance: 8.122e-03\n",
            "  coef_, l1_reg, l2_reg, X, y, max_iter, tol, rng, random, positive\n",
            "/usr/local/lib/python3.7/dist-packages/sklearn/linear_model/_coordinate_descent.py:648: ConvergenceWarning: Objective did not converge. You might want to increase the number of iterations, check the scale of the features or consider increasing regularisation. Duality gap: 1.734e-02, tolerance: 8.176e-03\n",
            "  coef_, l1_reg, l2_reg, X, y, max_iter, tol, rng, random, positive\n",
            "/usr/local/lib/python3.7/dist-packages/sklearn/linear_model/_coordinate_descent.py:648: ConvergenceWarning: Objective did not converge. You might want to increase the number of iterations, check the scale of the features or consider increasing regularisation. Duality gap: 1.534e-02, tolerance: 7.699e-03\n",
            "  coef_, l1_reg, l2_reg, X, y, max_iter, tol, rng, random, positive\n",
            "/usr/local/lib/python3.7/dist-packages/sklearn/linear_model/_coordinate_descent.py:648: ConvergenceWarning: Objective did not converge. You might want to increase the number of iterations, check the scale of the features or consider increasing regularisation. Duality gap: 1.648e-02, tolerance: 8.321e-03\n",
            "  coef_, l1_reg, l2_reg, X, y, max_iter, tol, rng, random, positive\n",
            "/usr/local/lib/python3.7/dist-packages/sklearn/linear_model/_coordinate_descent.py:648: ConvergenceWarning: Objective did not converge. You might want to increase the number of iterations, check the scale of the features or consider increasing regularisation. Duality gap: 1.644e-02, tolerance: 8.106e-03\n",
            "  coef_, l1_reg, l2_reg, X, y, max_iter, tol, rng, random, positive\n",
            "/usr/local/lib/python3.7/dist-packages/sklearn/linear_model/_coordinate_descent.py:648: ConvergenceWarning: Objective did not converge. You might want to increase the number of iterations, check the scale of the features or consider increasing regularisation. Duality gap: 1.723e-02, tolerance: 8.022e-03\n",
            "  coef_, l1_reg, l2_reg, X, y, max_iter, tol, rng, random, positive\n",
            "/usr/local/lib/python3.7/dist-packages/sklearn/linear_model/_coordinate_descent.py:648: ConvergenceWarning: Objective did not converge. You might want to increase the number of iterations, check the scale of the features or consider increasing regularisation. Duality gap: 1.577e-02, tolerance: 7.907e-03\n",
            "  coef_, l1_reg, l2_reg, X, y, max_iter, tol, rng, random, positive\n",
            "/usr/local/lib/python3.7/dist-packages/sklearn/linear_model/_coordinate_descent.py:648: ConvergenceWarning: Objective did not converge. You might want to increase the number of iterations, check the scale of the features or consider increasing regularisation. Duality gap: 1.522e-02, tolerance: 7.389e-03\n",
            "  coef_, l1_reg, l2_reg, X, y, max_iter, tol, rng, random, positive\n",
            "/usr/local/lib/python3.7/dist-packages/sklearn/linear_model/_coordinate_descent.py:648: ConvergenceWarning: Objective did not converge. You might want to increase the number of iterations, check the scale of the features or consider increasing regularisation. Duality gap: 1.373e-02, tolerance: 7.028e-03\n",
            "  coef_, l1_reg, l2_reg, X, y, max_iter, tol, rng, random, positive\n",
            "/usr/local/lib/python3.7/dist-packages/sklearn/linear_model/_coordinate_descent.py:648: ConvergenceWarning: Objective did not converge. You might want to increase the number of iterations, check the scale of the features or consider increasing regularisation. Duality gap: 1.512e-02, tolerance: 7.620e-03\n",
            "  coef_, l1_reg, l2_reg, X, y, max_iter, tol, rng, random, positive\n",
            "/usr/local/lib/python3.7/dist-packages/sklearn/linear_model/_coordinate_descent.py:648: ConvergenceWarning: Objective did not converge. You might want to increase the number of iterations, check the scale of the features or consider increasing regularisation. Duality gap: 1.680e-02, tolerance: 8.122e-03\n",
            "  coef_, l1_reg, l2_reg, X, y, max_iter, tol, rng, random, positive\n",
            "/usr/local/lib/python3.7/dist-packages/sklearn/linear_model/_coordinate_descent.py:648: ConvergenceWarning: Objective did not converge. You might want to increase the number of iterations, check the scale of the features or consider increasing regularisation. Duality gap: 1.734e-02, tolerance: 8.176e-03\n",
            "  coef_, l1_reg, l2_reg, X, y, max_iter, tol, rng, random, positive\n"
          ]
        },
        {
          "output_type": "stream",
          "name": "stdout",
          "text": [
            "\r||||||||||||||||||________________________________ 36.5% GA is running..."
          ]
        },
        {
          "output_type": "stream",
          "name": "stderr",
          "text": [
            "/usr/local/lib/python3.7/dist-packages/sklearn/linear_model/_coordinate_descent.py:648: ConvergenceWarning: Objective did not converge. You might want to increase the number of iterations, check the scale of the features or consider increasing regularisation. Duality gap: 1.017e-02, tolerance: 8.321e-03\n",
            "  coef_, l1_reg, l2_reg, X, y, max_iter, tol, rng, random, positive\n",
            "/usr/local/lib/python3.7/dist-packages/sklearn/linear_model/_coordinate_descent.py:648: ConvergenceWarning: Objective did not converge. You might want to increase the number of iterations, check the scale of the features or consider increasing regularisation. Duality gap: 8.272e-03, tolerance: 8.106e-03\n",
            "  coef_, l1_reg, l2_reg, X, y, max_iter, tol, rng, random, positive\n",
            "/usr/local/lib/python3.7/dist-packages/sklearn/linear_model/_coordinate_descent.py:648: ConvergenceWarning: Objective did not converge. You might want to increase the number of iterations, check the scale of the features or consider increasing regularisation. Duality gap: 8.876e-03, tolerance: 8.022e-03\n",
            "  coef_, l1_reg, l2_reg, X, y, max_iter, tol, rng, random, positive\n",
            "/usr/local/lib/python3.7/dist-packages/sklearn/linear_model/_coordinate_descent.py:648: ConvergenceWarning: Objective did not converge. You might want to increase the number of iterations, check the scale of the features or consider increasing regularisation. Duality gap: 9.958e-03, tolerance: 8.122e-03\n",
            "  coef_, l1_reg, l2_reg, X, y, max_iter, tol, rng, random, positive\n",
            "/usr/local/lib/python3.7/dist-packages/sklearn/linear_model/_coordinate_descent.py:648: ConvergenceWarning: Objective did not converge. You might want to increase the number of iterations, check the scale of the features or consider increasing regularisation. Duality gap: 8.939e-03, tolerance: 8.176e-03\n",
            "  coef_, l1_reg, l2_reg, X, y, max_iter, tol, rng, random, positive\n"
          ]
        },
        {
          "output_type": "stream",
          "name": "stdout",
          "text": [
            "|||||||||||||||||||_______________________________ 37.5% GA is running..."
          ]
        },
        {
          "output_type": "stream",
          "name": "stderr",
          "text": [
            "/usr/local/lib/python3.7/dist-packages/sklearn/linear_model/_coordinate_descent.py:648: ConvergenceWarning: Objective did not converge. You might want to increase the number of iterations, check the scale of the features or consider increasing regularisation. Duality gap: 1.534e-02, tolerance: 7.699e-03\n",
            "  coef_, l1_reg, l2_reg, X, y, max_iter, tol, rng, random, positive\n",
            "/usr/local/lib/python3.7/dist-packages/sklearn/linear_model/_coordinate_descent.py:648: ConvergenceWarning: Objective did not converge. You might want to increase the number of iterations, check the scale of the features or consider increasing regularisation. Duality gap: 1.648e-02, tolerance: 8.321e-03\n",
            "  coef_, l1_reg, l2_reg, X, y, max_iter, tol, rng, random, positive\n",
            "/usr/local/lib/python3.7/dist-packages/sklearn/linear_model/_coordinate_descent.py:648: ConvergenceWarning: Objective did not converge. You might want to increase the number of iterations, check the scale of the features or consider increasing regularisation. Duality gap: 1.644e-02, tolerance: 8.106e-03\n",
            "  coef_, l1_reg, l2_reg, X, y, max_iter, tol, rng, random, positive\n",
            "/usr/local/lib/python3.7/dist-packages/sklearn/linear_model/_coordinate_descent.py:648: ConvergenceWarning: Objective did not converge. You might want to increase the number of iterations, check the scale of the features or consider increasing regularisation. Duality gap: 1.723e-02, tolerance: 8.022e-03\n",
            "  coef_, l1_reg, l2_reg, X, y, max_iter, tol, rng, random, positive\n",
            "/usr/local/lib/python3.7/dist-packages/sklearn/linear_model/_coordinate_descent.py:648: ConvergenceWarning: Objective did not converge. You might want to increase the number of iterations, check the scale of the features or consider increasing regularisation. Duality gap: 1.577e-02, tolerance: 7.907e-03\n",
            "  coef_, l1_reg, l2_reg, X, y, max_iter, tol, rng, random, positive\n",
            "/usr/local/lib/python3.7/dist-packages/sklearn/linear_model/_coordinate_descent.py:648: ConvergenceWarning: Objective did not converge. You might want to increase the number of iterations, check the scale of the features or consider increasing regularisation. Duality gap: 1.522e-02, tolerance: 7.389e-03\n",
            "  coef_, l1_reg, l2_reg, X, y, max_iter, tol, rng, random, positive\n",
            "/usr/local/lib/python3.7/dist-packages/sklearn/linear_model/_coordinate_descent.py:648: ConvergenceWarning: Objective did not converge. You might want to increase the number of iterations, check the scale of the features or consider increasing regularisation. Duality gap: 1.373e-02, tolerance: 7.028e-03\n",
            "  coef_, l1_reg, l2_reg, X, y, max_iter, tol, rng, random, positive\n",
            "/usr/local/lib/python3.7/dist-packages/sklearn/linear_model/_coordinate_descent.py:648: ConvergenceWarning: Objective did not converge. You might want to increase the number of iterations, check the scale of the features or consider increasing regularisation. Duality gap: 1.512e-02, tolerance: 7.620e-03\n",
            "  coef_, l1_reg, l2_reg, X, y, max_iter, tol, rng, random, positive\n",
            "/usr/local/lib/python3.7/dist-packages/sklearn/linear_model/_coordinate_descent.py:648: ConvergenceWarning: Objective did not converge. You might want to increase the number of iterations, check the scale of the features or consider increasing regularisation. Duality gap: 1.680e-02, tolerance: 8.122e-03\n",
            "  coef_, l1_reg, l2_reg, X, y, max_iter, tol, rng, random, positive\n",
            "/usr/local/lib/python3.7/dist-packages/sklearn/linear_model/_coordinate_descent.py:648: ConvergenceWarning: Objective did not converge. You might want to increase the number of iterations, check the scale of the features or consider increasing regularisation. Duality gap: 1.734e-02, tolerance: 8.176e-03\n",
            "  coef_, l1_reg, l2_reg, X, y, max_iter, tol, rng, random, positive\n"
          ]
        },
        {
          "output_type": "stream",
          "name": "stdout",
          "text": [
            "\r|||||||||||||||||||_______________________________ 38.0% GA is running..."
          ]
        },
        {
          "output_type": "stream",
          "name": "stderr",
          "text": [
            "/usr/local/lib/python3.7/dist-packages/sklearn/linear_model/_coordinate_descent.py:648: ConvergenceWarning: Objective did not converge. You might want to increase the number of iterations, check the scale of the features or consider increasing regularisation. Duality gap: 1.534e-02, tolerance: 7.699e-03\n",
            "  coef_, l1_reg, l2_reg, X, y, max_iter, tol, rng, random, positive\n",
            "/usr/local/lib/python3.7/dist-packages/sklearn/linear_model/_coordinate_descent.py:648: ConvergenceWarning: Objective did not converge. You might want to increase the number of iterations, check the scale of the features or consider increasing regularisation. Duality gap: 1.648e-02, tolerance: 8.321e-03\n",
            "  coef_, l1_reg, l2_reg, X, y, max_iter, tol, rng, random, positive\n",
            "/usr/local/lib/python3.7/dist-packages/sklearn/linear_model/_coordinate_descent.py:648: ConvergenceWarning: Objective did not converge. You might want to increase the number of iterations, check the scale of the features or consider increasing regularisation. Duality gap: 1.644e-02, tolerance: 8.106e-03\n",
            "  coef_, l1_reg, l2_reg, X, y, max_iter, tol, rng, random, positive\n",
            "/usr/local/lib/python3.7/dist-packages/sklearn/linear_model/_coordinate_descent.py:648: ConvergenceWarning: Objective did not converge. You might want to increase the number of iterations, check the scale of the features or consider increasing regularisation. Duality gap: 1.723e-02, tolerance: 8.022e-03\n",
            "  coef_, l1_reg, l2_reg, X, y, max_iter, tol, rng, random, positive\n",
            "/usr/local/lib/python3.7/dist-packages/sklearn/linear_model/_coordinate_descent.py:648: ConvergenceWarning: Objective did not converge. You might want to increase the number of iterations, check the scale of the features or consider increasing regularisation. Duality gap: 1.577e-02, tolerance: 7.907e-03\n",
            "  coef_, l1_reg, l2_reg, X, y, max_iter, tol, rng, random, positive\n",
            "/usr/local/lib/python3.7/dist-packages/sklearn/linear_model/_coordinate_descent.py:648: ConvergenceWarning: Objective did not converge. You might want to increase the number of iterations, check the scale of the features or consider increasing regularisation. Duality gap: 1.522e-02, tolerance: 7.389e-03\n",
            "  coef_, l1_reg, l2_reg, X, y, max_iter, tol, rng, random, positive\n",
            "/usr/local/lib/python3.7/dist-packages/sklearn/linear_model/_coordinate_descent.py:648: ConvergenceWarning: Objective did not converge. You might want to increase the number of iterations, check the scale of the features or consider increasing regularisation. Duality gap: 1.373e-02, tolerance: 7.028e-03\n",
            "  coef_, l1_reg, l2_reg, X, y, max_iter, tol, rng, random, positive\n",
            "/usr/local/lib/python3.7/dist-packages/sklearn/linear_model/_coordinate_descent.py:648: ConvergenceWarning: Objective did not converge. You might want to increase the number of iterations, check the scale of the features or consider increasing regularisation. Duality gap: 1.512e-02, tolerance: 7.620e-03\n",
            "  coef_, l1_reg, l2_reg, X, y, max_iter, tol, rng, random, positive\n",
            "/usr/local/lib/python3.7/dist-packages/sklearn/linear_model/_coordinate_descent.py:648: ConvergenceWarning: Objective did not converge. You might want to increase the number of iterations, check the scale of the features or consider increasing regularisation. Duality gap: 1.680e-02, tolerance: 8.122e-03\n",
            "  coef_, l1_reg, l2_reg, X, y, max_iter, tol, rng, random, positive\n",
            "/usr/local/lib/python3.7/dist-packages/sklearn/linear_model/_coordinate_descent.py:648: ConvergenceWarning: Objective did not converge. You might want to increase the number of iterations, check the scale of the features or consider increasing regularisation. Duality gap: 1.734e-02, tolerance: 8.176e-03\n",
            "  coef_, l1_reg, l2_reg, X, y, max_iter, tol, rng, random, positive\n"
          ]
        },
        {
          "output_type": "stream",
          "name": "stdout",
          "text": [
            " The best solution found:\n",
            " [1.00072459 0.00536996]\n",
            "\n",
            " Objective function:\n",
            " 0.2579545692688243\n"
          ]
        },
        {
          "output_type": "display_data",
          "data": {
            "text/plain": [
              "<Figure size 432x288 with 1 Axes>"
            ],
            "image/png": "[encoded data removed]"
          },
          "metadata": {
            "image/png": {
              "width": 404,
              "height": 277
            },
            "needs_background": "light"
          }
        }
      ],
      "source": [
        "#genetic algorithm: elastic net \n",
        "varbound=np.array([[0,3],[0,1]])\n",
        "\n",
        "model=ga(function=objective_elasticnet,dimension=2,variable_type='real',variable_boundaries=varbound)\n",
        "\n",
        "model.run()"
      ]
    },
    {
      "cell_type": "markdown",
      "source": [
        "Genetic Algorithm: Support Vector Regression"
      ],
      "metadata": {
        "id": "koAOk-xbb-Ku"
      }
    },
    {
      "cell_type": "code",
      "source": [
        "# genetic algorithm: svr\n",
        "varbound=np.array([[0,3],[0,1]])\n",
        "\n",
        "model=ga(function=objective_svr,dimension=2,variable_type='real',variable_boundaries=varbound)\n",
        "\n",
        "model.run()"
      ],
      "metadata": {
        "colab": {
          "base_uri": "https://localhost:8080/",
          "height": 383
        },
        "id": "WPrL7pZbbK5f",
        "outputId": "bb6ff4ec-05bb-4e45-ffbf-163fdbc58da4"
      },
      "execution_count": null,
      "outputs": [
        {
          "output_type": "stream",
          "name": "stdout",
          "text": [
            " The best solution found:\n",
            " [2.32071524 0.13024   ]\n",
            "\n",
            " Objective function:\n",
            " 0.2685969124615058\n"
          ]
        },
        {
          "output_type": "display_data",
          "data": {
            "text/plain": [
              "<Figure size 432x288 with 1 Axes>"
            ],
            "image/png": "[encoded data removed]"
          },
          "metadata": {
            "image/png": {
              "width": 417,
              "height": 277
            },
            "needs_background": "light"
          }
        }
      ]
    },
    {
      "cell_type": "markdown",
      "source": [
        "---\n",
        "Simulated Annealing: ElasticNet"
      ],
      "metadata": {
        "id": "n8R2XVJwcCaU"
      }
    },
    {
      "cell_type": "code",
      "source": [
        "#simulated annealing\n",
        "lw = [0.0001,0.0001]\n",
        "up = [3,0.9999]\n",
        "ret = dual_annealing(objective_elasticnet, bounds=list(zip(lw, up)),maxiter=1000,maxfun=1000)"
      ],
      "metadata": {
        "colab": {
          "base_uri": "https://localhost:8080/"
        },
        "id": "AkfjpBxNbRqS",
        "outputId": "b0491178-115a-45ca-fd91-c9108d4110c6"
      },
      "execution_count": null,
      "outputs": [
        {
          "output_type": "stream",
          "name": "stderr",
          "text": [
            "/usr/local/lib/python3.7/dist-packages/sklearn/linear_model/_coordinate_descent.py:648: ConvergenceWarning: Objective did not converge. You might want to increase the number of iterations, check the scale of the features or consider increasing regularisation. Duality gap: 8.894e-03, tolerance: 7.699e-03\n",
            "  coef_, l1_reg, l2_reg, X, y, max_iter, tol, rng, random, positive\n",
            "/usr/local/lib/python3.7/dist-packages/sklearn/linear_model/_coordinate_descent.py:648: ConvergenceWarning: Objective did not converge. You might want to increase the number of iterations, check the scale of the features or consider increasing regularisation. Duality gap: 9.073e-03, tolerance: 8.321e-03\n",
            "  coef_, l1_reg, l2_reg, X, y, max_iter, tol, rng, random, positive\n",
            "/usr/local/lib/python3.7/dist-packages/sklearn/linear_model/_coordinate_descent.py:648: ConvergenceWarning: Objective did not converge. You might want to increase the number of iterations, check the scale of the features or consider increasing regularisation. Duality gap: 8.896e-03, tolerance: 8.106e-03\n",
            "  coef_, l1_reg, l2_reg, X, y, max_iter, tol, rng, random, positive\n",
            "/usr/local/lib/python3.7/dist-packages/sklearn/linear_model/_coordinate_descent.py:648: ConvergenceWarning: Objective did not converge. You might want to increase the number of iterations, check the scale of the features or consider increasing regularisation. Duality gap: 1.002e-02, tolerance: 8.022e-03\n",
            "  coef_, l1_reg, l2_reg, X, y, max_iter, tol, rng, random, positive\n",
            "/usr/local/lib/python3.7/dist-packages/sklearn/linear_model/_coordinate_descent.py:648: ConvergenceWarning: Objective did not converge. You might want to increase the number of iterations, check the scale of the features or consider increasing regularisation. Duality gap: 9.854e-03, tolerance: 7.907e-03\n",
            "  coef_, l1_reg, l2_reg, X, y, max_iter, tol, rng, random, positive\n",
            "/usr/local/lib/python3.7/dist-packages/sklearn/linear_model/_coordinate_descent.py:648: ConvergenceWarning: Objective did not converge. You might want to increase the number of iterations, check the scale of the features or consider increasing regularisation. Duality gap: 7.725e-03, tolerance: 7.389e-03\n",
            "  coef_, l1_reg, l2_reg, X, y, max_iter, tol, rng, random, positive\n",
            "/usr/local/lib/python3.7/dist-packages/sklearn/linear_model/_coordinate_descent.py:648: ConvergenceWarning: Objective did not converge. You might want to increase the number of iterations, check the scale of the features or consider increasing regularisation. Duality gap: 7.683e-03, tolerance: 7.028e-03\n",
            "  coef_, l1_reg, l2_reg, X, y, max_iter, tol, rng, random, positive\n",
            "/usr/local/lib/python3.7/dist-packages/sklearn/linear_model/_coordinate_descent.py:648: ConvergenceWarning: Objective did not converge. You might want to increase the number of iterations, check the scale of the features or consider increasing regularisation. Duality gap: 8.659e-03, tolerance: 7.620e-03\n",
            "  coef_, l1_reg, l2_reg, X, y, max_iter, tol, rng, random, positive\n",
            "/usr/local/lib/python3.7/dist-packages/sklearn/linear_model/_coordinate_descent.py:648: ConvergenceWarning: Objective did not converge. You might want to increase the number of iterations, check the scale of the features or consider increasing regularisation. Duality gap: 9.553e-03, tolerance: 8.122e-03\n",
            "  coef_, l1_reg, l2_reg, X, y, max_iter, tol, rng, random, positive\n",
            "/usr/local/lib/python3.7/dist-packages/sklearn/linear_model/_coordinate_descent.py:648: ConvergenceWarning: Objective did not converge. You might want to increase the number of iterations, check the scale of the features or consider increasing regularisation. Duality gap: 9.989e-03, tolerance: 8.176e-03\n",
            "  coef_, l1_reg, l2_reg, X, y, max_iter, tol, rng, random, positive\n"
          ]
        }
      ]
    },
    {
      "cell_type": "code",
      "source": [
        "ret.x"
      ],
      "metadata": {
        "colab": {
          "base_uri": "https://localhost:8080/"
        },
        "id": "OFyiUaYUbZn6",
        "outputId": "d3605e3c-e1b5-4186-c87a-d41802265942"
      },
      "execution_count": null,
      "outputs": [
        {
          "output_type": "execute_result",
          "data": {
            "text/plain": [
              "array([1.03648999, 0.00486746])"
            ]
          },
          "metadata": {},
          "execution_count": 21
        }
      ]
    },
    {
      "cell_type": "markdown",
      "source": [
        "Simulated Annealing: Support Vector Regression"
      ],
      "metadata": {
        "id": "jWyzJHR5cFlv"
      }
    },
    {
      "cell_type": "code",
      "source": [
        "#simulated annealing\n",
        "lw = [0.0001,0.0001]\n",
        "up = [3,0.9999]\n",
        "ret = dual_annealing(objective_svr, bounds=list(zip(lw, up)),maxiter=1000,maxfun=1000)"
      ],
      "metadata": {
        "id": "jSvhJC9cbVLi"
      },
      "execution_count": null,
      "outputs": []
    },
    {
      "cell_type": "code",
      "source": [
        "ret.x "
      ],
      "metadata": {
        "colab": {
          "base_uri": "https://localhost:8080/"
        },
        "id": "5jmz5by3bapR",
        "outputId": "4821bb5c-8ac0-4c3e-b8b1-9f78fad9b1cd"
      },
      "execution_count": null,
      "outputs": [
        {
          "output_type": "execute_result",
          "data": {
            "text/plain": [
              "array([0.99977154, 0.13007235])"
            ]
          },
          "metadata": {},
          "execution_count": 20
        }
      ]
    },
    {
      "cell_type": "markdown",
      "source": [
        "---\n",
        "Results: \n",
        "\n",
        "\n",
        "ElasticNet:\n",
        "*   Best alpha: 1\n",
        "*   Best l1 ratio: .004\n",
        "\n",
        "Support Vector Regression:\n",
        "*   Best C value: 1.3\n",
        "*   Best epsilon: 0.13\n",
        "\n",
        "\n",
        "\n"
      ],
      "metadata": {
        "id": "Q6wMQNBhnF73"
      }
    },
    {
      "cell_type": "code",
      "source": [
        ""
      ],
      "metadata": {
        "id": "ibExzQX5nXRR"
      },
      "execution_count": null,
      "outputs": []
    }
  ],
  "metadata": {
    "colab": {
      "name": "Project 3 Amiyah Stukes",
      "provenance": []
    },
    "kernelspec": {
      "display_name": "Python 3",
      "name": "python3"
    },
    "language_info": {
      "name": "python"
    }
  },
  "nbformat": 4,
  "nbformat_minor": 0
}